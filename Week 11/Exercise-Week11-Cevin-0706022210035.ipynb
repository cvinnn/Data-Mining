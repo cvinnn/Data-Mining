{
 "cells": [
  {
   "cell_type": "code",
   "execution_count": 2,
   "metadata": {},
   "outputs": [
    {
     "name": "stdout",
     "output_type": "stream",
     "text": [
      "Defaulting to user installation because normal site-packages is not writeable\n",
      "Collecting mlxtend==0.23.1\n",
      "  Downloading mlxtend-0.23.1-py3-none-any.whl (1.4 MB)\n",
      "\u001b[K     |████████████████████████████████| 1.4 MB 2.9 MB/s eta 0:00:01\n",
      "\u001b[?25hRequirement already satisfied: joblib>=0.13.2 in /Users/mac/Library/Python/3.9/lib/python/site-packages (from mlxtend==0.23.1) (1.4.2)\n",
      "Requirement already satisfied: matplotlib>=3.0.0 in /Users/mac/Library/Python/3.9/lib/python/site-packages (from mlxtend==0.23.1) (3.9.2)\n",
      "Requirement already satisfied: scikit-learn>=1.0.2 in /Users/mac/Library/Python/3.9/lib/python/site-packages (from mlxtend==0.23.1) (1.5.2)\n",
      "Requirement already satisfied: pandas>=0.24.2 in /Users/mac/Library/Python/3.9/lib/python/site-packages (from mlxtend==0.23.1) (2.2.3)\n",
      "Requirement already satisfied: numpy>=1.16.2 in /Users/mac/Library/Python/3.9/lib/python/site-packages (from mlxtend==0.23.1) (2.0.2)\n",
      "Requirement already satisfied: scipy>=1.2.1 in /Users/mac/Library/Python/3.9/lib/python/site-packages (from mlxtend==0.23.1) (1.13.1)\n",
      "Requirement already satisfied: packaging>=20.0 in /Users/mac/Library/Python/3.9/lib/python/site-packages (from matplotlib>=3.0.0->mlxtend==0.23.1) (24.2)\n",
      "Requirement already satisfied: pillow>=8 in /Users/mac/Library/Python/3.9/lib/python/site-packages (from matplotlib>=3.0.0->mlxtend==0.23.1) (11.0.0)\n",
      "Requirement already satisfied: cycler>=0.10 in /Users/mac/Library/Python/3.9/lib/python/site-packages (from matplotlib>=3.0.0->mlxtend==0.23.1) (0.12.1)\n",
      "Requirement already satisfied: contourpy>=1.0.1 in /Users/mac/Library/Python/3.9/lib/python/site-packages (from matplotlib>=3.0.0->mlxtend==0.23.1) (1.3.0)\n",
      "Requirement already satisfied: python-dateutil>=2.7 in /Users/mac/Library/Python/3.9/lib/python/site-packages (from matplotlib>=3.0.0->mlxtend==0.23.1) (2.9.0.post0)\n",
      "Requirement already satisfied: pyparsing>=2.3.1 in /Users/mac/Library/Python/3.9/lib/python/site-packages (from matplotlib>=3.0.0->mlxtend==0.23.1) (3.2.0)\n",
      "Requirement already satisfied: kiwisolver>=1.3.1 in /Users/mac/Library/Python/3.9/lib/python/site-packages (from matplotlib>=3.0.0->mlxtend==0.23.1) (1.4.7)\n",
      "Requirement already satisfied: fonttools>=4.22.0 in /Users/mac/Library/Python/3.9/lib/python/site-packages (from matplotlib>=3.0.0->mlxtend==0.23.1) (4.55.0)\n",
      "Requirement already satisfied: importlib-resources>=3.2.0 in /Users/mac/Library/Python/3.9/lib/python/site-packages (from matplotlib>=3.0.0->mlxtend==0.23.1) (6.4.5)\n",
      "Requirement already satisfied: zipp>=3.1.0 in /Users/mac/Library/Python/3.9/lib/python/site-packages (from importlib-resources>=3.2.0->matplotlib>=3.0.0->mlxtend==0.23.1) (3.21.0)\n",
      "Requirement already satisfied: tzdata>=2022.7 in /Users/mac/Library/Python/3.9/lib/python/site-packages (from pandas>=0.24.2->mlxtend==0.23.1) (2024.2)\n",
      "Requirement already satisfied: pytz>=2020.1 in /Users/mac/Library/Python/3.9/lib/python/site-packages (from pandas>=0.24.2->mlxtend==0.23.1) (2024.2)\n",
      "Requirement already satisfied: six>=1.5 in /Applications/Xcode.app/Contents/Developer/Library/Frameworks/Python3.framework/Versions/3.9/lib/python3.9/site-packages (from python-dateutil>=2.7->matplotlib>=3.0.0->mlxtend==0.23.1) (1.15.0)\n",
      "Requirement already satisfied: threadpoolctl>=3.1.0 in /Users/mac/Library/Python/3.9/lib/python/site-packages (from scikit-learn>=1.0.2->mlxtend==0.23.1) (3.5.0)\n",
      "Installing collected packages: mlxtend\n",
      "Successfully installed mlxtend-0.23.1\n",
      "\u001b[33mWARNING: You are using pip version 21.2.4; however, version 24.3.1 is available.\n",
      "You should consider upgrading via the '/Applications/Xcode.app/Contents/Developer/usr/bin/python3 -m pip install --upgrade pip' command.\u001b[0m\n",
      "Note: you may need to restart the kernel to use updated packages.\n"
     ]
    }
   ],
   "source": [
    "pip install mlxtend==0.23.1"
   ]
  },
  {
   "cell_type": "code",
   "execution_count": 3,
   "metadata": {
    "colab": {
     "base_uri": "https://localhost:8080/"
    },
    "executionInfo": {
     "elapsed": 3545,
     "status": "ok",
     "timestamp": 1732760387889,
     "user": {
      "displayName": "Nathalia Minoque",
      "userId": "00797020017705806857"
     },
     "user_tz": -420
    },
    "id": "JuFb1MP_O5EW",
    "outputId": "bc2e7ba3-a4a0-4db6-bb12-cdc9bdbe6bea"
   },
   "outputs": [],
   "source": [
    "import pandas as pd\n",
    "import numpy as np\n",
    "from matplotlib import pyplot as plt\n",
    "from sklearn.preprocessing import OneHotEncoder\n",
    "from mlxtend.preprocessing import TransactionEncoder"
   ]
  },
  {
   "cell_type": "markdown",
   "metadata": {
    "id": "wDYkmRlZPSXY"
   },
   "source": [
    "# Association Rule for Store Dataset"
   ]
  },
  {
   "cell_type": "markdown",
   "metadata": {
    "id": "IYfOAa9fPjln"
   },
   "source": [
    "In this case study, we will explore how association rule can be used to analyze the items that are usualy purcased together.\n",
    "\n",
    "you can refer to this article to find out about apriori and association rule:\n",
    "https://rasbt.github.io/mlxtend/user_guide/frequent_patterns/apriori/\n",
    "https://rasbt.github.io/mlxtend/user_guide/frequent_patterns/association_rules/"
   ]
  },
  {
   "cell_type": "markdown",
   "metadata": {
    "id": "7EOg6BIYPxt4"
   },
   "source": [
    "## Load Data"
   ]
  },
  {
   "cell_type": "markdown",
   "metadata": {
    "id": "Gp0OZCjrQT1n"
   },
   "source": [
    "We will use the dataset of the transaction in a certain store. You can get the dataset here:\n",
    "https://gist.githubusercontent.com/Harsh-Git-Hub/2979ec48043928ad9033d8469928e751/raw/72de943e040b8bd0d087624b154d41b2ba9d9b60/retail_dataset.csv"
   ]
  },
  {
   "cell_type": "code",
   "execution_count": 5,
   "metadata": {
    "colab": {
     "base_uri": "https://localhost:8080/",
     "height": 261
    },
    "executionInfo": {
     "elapsed": 17,
     "status": "ok",
     "timestamp": 1732760387889,
     "user": {
      "displayName": "Nathalia Minoque",
      "userId": "00797020017705806857"
     },
     "user_tz": -420
    },
    "id": "LDF65VBRQjFL",
    "outputId": "6352b0ee-b143-4779-9096-4e38d7fa0a87"
   },
   "outputs": [
    {
     "data": {
      "text/html": [
       "<div>\n",
       "<style scoped>\n",
       "    .dataframe tbody tr th:only-of-type {\n",
       "        vertical-align: middle;\n",
       "    }\n",
       "\n",
       "    .dataframe tbody tr th {\n",
       "        vertical-align: top;\n",
       "    }\n",
       "\n",
       "    .dataframe thead th {\n",
       "        text-align: right;\n",
       "    }\n",
       "</style>\n",
       "<table border=\"1\" class=\"dataframe\">\n",
       "  <thead>\n",
       "    <tr style=\"text-align: right;\">\n",
       "      <th></th>\n",
       "      <th>0</th>\n",
       "      <th>1</th>\n",
       "      <th>2</th>\n",
       "      <th>3</th>\n",
       "      <th>4</th>\n",
       "      <th>5</th>\n",
       "      <th>6</th>\n",
       "    </tr>\n",
       "  </thead>\n",
       "  <tbody>\n",
       "    <tr>\n",
       "      <th>0</th>\n",
       "      <td>Bread</td>\n",
       "      <td>Wine</td>\n",
       "      <td>Eggs</td>\n",
       "      <td>Meat</td>\n",
       "      <td>Cheese</td>\n",
       "      <td>Pencil</td>\n",
       "      <td>Diaper</td>\n",
       "    </tr>\n",
       "    <tr>\n",
       "      <th>1</th>\n",
       "      <td>Bread</td>\n",
       "      <td>Cheese</td>\n",
       "      <td>Meat</td>\n",
       "      <td>Diaper</td>\n",
       "      <td>Wine</td>\n",
       "      <td>Milk</td>\n",
       "      <td>Pencil</td>\n",
       "    </tr>\n",
       "    <tr>\n",
       "      <th>2</th>\n",
       "      <td>Cheese</td>\n",
       "      <td>Meat</td>\n",
       "      <td>Eggs</td>\n",
       "      <td>Milk</td>\n",
       "      <td>Wine</td>\n",
       "      <td>NaN</td>\n",
       "      <td>NaN</td>\n",
       "    </tr>\n",
       "    <tr>\n",
       "      <th>3</th>\n",
       "      <td>Cheese</td>\n",
       "      <td>Meat</td>\n",
       "      <td>Eggs</td>\n",
       "      <td>Milk</td>\n",
       "      <td>Wine</td>\n",
       "      <td>NaN</td>\n",
       "      <td>NaN</td>\n",
       "    </tr>\n",
       "    <tr>\n",
       "      <th>4</th>\n",
       "      <td>Meat</td>\n",
       "      <td>Pencil</td>\n",
       "      <td>Wine</td>\n",
       "      <td>NaN</td>\n",
       "      <td>NaN</td>\n",
       "      <td>NaN</td>\n",
       "      <td>NaN</td>\n",
       "    </tr>\n",
       "  </tbody>\n",
       "</table>\n",
       "</div>"
      ],
      "text/plain": [
       "        0       1     2       3       4       5       6\n",
       "0   Bread    Wine  Eggs    Meat  Cheese  Pencil  Diaper\n",
       "1   Bread  Cheese  Meat  Diaper    Wine    Milk  Pencil\n",
       "2  Cheese    Meat  Eggs    Milk    Wine     NaN     NaN\n",
       "3  Cheese    Meat  Eggs    Milk    Wine     NaN     NaN\n",
       "4    Meat  Pencil  Wine     NaN     NaN     NaN     NaN"
      ]
     },
     "execution_count": 5,
     "metadata": {},
     "output_type": "execute_result"
    }
   ],
   "source": [
    "# load the data set ans show the first five transaction\n",
    "df = pd.read_csv(r\"https://gist.githubusercontent.com/Harsh-Git-Hub/2979ec48043928ad9033d8469928e751/raw/72de943e040b8bd0d087624b154d41b2ba9d9b60/retail_dataset.csv\")\n",
    "df.head()"
   ]
  },
  {
   "cell_type": "markdown",
   "metadata": {
    "id": "IkfhUabDQup9"
   },
   "source": [
    "# Get the set of product that has been purchased\n"
   ]
  },
  {
   "cell_type": "code",
   "execution_count": 6,
   "metadata": {},
   "outputs": [
    {
     "name": "stdout",
     "output_type": "stream",
     "text": [
      "{nan, 'Eggs', 'Bread', 'Diaper', 'Meat', 'Bagel', 'Milk', 'Cheese', 'Wine', 'Pencil'}\n"
     ]
    }
   ],
   "source": [
    "uniqueitemsset = set(np.ravel(df))\n",
    "for i in df:\n",
    "  uniqueitemsset.update(df[i].unique())\n",
    "print(uniqueitemsset)"
   ]
  },
  {
   "cell_type": "markdown",
   "metadata": {
    "id": "M4g4k83bP07H"
   },
   "source": [
    "## Preprocess Data"
   ]
  },
  {
   "cell_type": "markdown",
   "metadata": {
    "id": "GEnL1bXtRLXe"
   },
   "source": [
    "In this step, we will transform our dataset so that we will have a one hot encoding based on the purchased products."
   ]
  },
  {
   "cell_type": "code",
   "execution_count": 7,
   "metadata": {},
   "outputs": [
    {
     "data": {
      "text/plain": [
       "{'Pencil': 0,\n",
       " 'Diaper': 0,\n",
       " 'Cheese': 0,\n",
       " 'Milk': 0,\n",
       " nan: 1,\n",
       " 'Eggs': 1,\n",
       " 'Bread': 1,\n",
       " 'Meat': 1,\n",
       " 'Bagel': 1,\n",
       " 'Wine': 1}"
      ]
     },
     "execution_count": 7,
     "metadata": {},
     "output_type": "execute_result"
    }
   ],
   "source": [
    "#create an itemset based on the products\n",
    "itemset = set(uniqueitemsset)\n",
    "\n",
    "# encoding the feature\n",
    "encodedValue = []\n",
    "for index, row in df.iterrows():\n",
    "    rowset = set(row) \n",
    "    items = {}\n",
    "    uncommons = list(itemset - rowset)\n",
    "    commons = list(itemset.intersection(rowset))\n",
    "    for i in uncommons:\n",
    "        items[i] = 0\n",
    "    for j in commons:\n",
    "        items[j] = 1\n",
    "    encodedValue.append(items)\n",
    "\n",
    "items"
   ]
  },
  {
   "cell_type": "code",
   "execution_count": 8,
   "metadata": {},
   "outputs": [
    {
     "data": {
      "text/html": [
       "<div>\n",
       "<style scoped>\n",
       "    .dataframe tbody tr th:only-of-type {\n",
       "        vertical-align: middle;\n",
       "    }\n",
       "\n",
       "    .dataframe tbody tr th {\n",
       "        vertical-align: top;\n",
       "    }\n",
       "\n",
       "    .dataframe thead th {\n",
       "        text-align: right;\n",
       "    }\n",
       "</style>\n",
       "<table border=\"1\" class=\"dataframe\">\n",
       "  <thead>\n",
       "    <tr style=\"text-align: right;\">\n",
       "      <th></th>\n",
       "      <th>NaN</th>\n",
       "      <th>Bagel</th>\n",
       "      <th>Milk</th>\n",
       "      <th>Eggs</th>\n",
       "      <th>Bread</th>\n",
       "      <th>Diaper</th>\n",
       "      <th>Meat</th>\n",
       "      <th>Cheese</th>\n",
       "      <th>Wine</th>\n",
       "      <th>Pencil</th>\n",
       "    </tr>\n",
       "  </thead>\n",
       "  <tbody>\n",
       "    <tr>\n",
       "      <th>0</th>\n",
       "      <td>0</td>\n",
       "      <td>0</td>\n",
       "      <td>0</td>\n",
       "      <td>1</td>\n",
       "      <td>1</td>\n",
       "      <td>1</td>\n",
       "      <td>1</td>\n",
       "      <td>1</td>\n",
       "      <td>1</td>\n",
       "      <td>1</td>\n",
       "    </tr>\n",
       "    <tr>\n",
       "      <th>1</th>\n",
       "      <td>0</td>\n",
       "      <td>0</td>\n",
       "      <td>1</td>\n",
       "      <td>0</td>\n",
       "      <td>1</td>\n",
       "      <td>1</td>\n",
       "      <td>1</td>\n",
       "      <td>1</td>\n",
       "      <td>1</td>\n",
       "      <td>1</td>\n",
       "    </tr>\n",
       "    <tr>\n",
       "      <th>2</th>\n",
       "      <td>1</td>\n",
       "      <td>0</td>\n",
       "      <td>1</td>\n",
       "      <td>1</td>\n",
       "      <td>0</td>\n",
       "      <td>0</td>\n",
       "      <td>1</td>\n",
       "      <td>1</td>\n",
       "      <td>1</td>\n",
       "      <td>0</td>\n",
       "    </tr>\n",
       "    <tr>\n",
       "      <th>3</th>\n",
       "      <td>1</td>\n",
       "      <td>0</td>\n",
       "      <td>1</td>\n",
       "      <td>1</td>\n",
       "      <td>0</td>\n",
       "      <td>0</td>\n",
       "      <td>1</td>\n",
       "      <td>1</td>\n",
       "      <td>1</td>\n",
       "      <td>0</td>\n",
       "    </tr>\n",
       "    <tr>\n",
       "      <th>4</th>\n",
       "      <td>1</td>\n",
       "      <td>0</td>\n",
       "      <td>0</td>\n",
       "      <td>0</td>\n",
       "      <td>0</td>\n",
       "      <td>0</td>\n",
       "      <td>1</td>\n",
       "      <td>0</td>\n",
       "      <td>1</td>\n",
       "      <td>1</td>\n",
       "    </tr>\n",
       "  </tbody>\n",
       "</table>\n",
       "</div>"
      ],
      "text/plain": [
       "   NaN  Bagel  Milk  Eggs  Bread  Diaper  Meat  Cheese  Wine  Pencil\n",
       "0    0      0     0     1      1       1     1       1     1       1\n",
       "1    0      0     1     0      1       1     1       1     1       1\n",
       "2    1      0     1     1      0       0     1       1     1       0\n",
       "3    1      0     1     1      0       0     1       1     1       0\n",
       "4    1      0     0     0      0       0     1       0     1       1"
      ]
     },
     "execution_count": 8,
     "metadata": {},
     "output_type": "execute_result"
    }
   ],
   "source": [
    "  # create new dataframe from the encoded features\n",
    "newdf = pd.DataFrame(encodedValue)\n",
    "  # show the new dataframe\n",
    "newdf.head()"
   ]
  },
  {
   "cell_type": "code",
   "execution_count": 9,
   "metadata": {
    "colab": {
     "base_uri": "https://localhost:8080/",
     "height": 261
    },
    "executionInfo": {
     "elapsed": 10,
     "status": "ok",
     "timestamp": 1732760387889,
     "user": {
      "displayName": "Nathalia Minoque",
      "userId": "00797020017705806857"
     },
     "user_tz": -420
    },
    "id": "V2hfmZMRhVeA",
    "outputId": "f7f297c9-85dd-4025-c5b2-f11c1857bee7"
   },
   "outputs": [
    {
     "data": {
      "text/html": [
       "<div>\n",
       "<style scoped>\n",
       "    .dataframe tbody tr th:only-of-type {\n",
       "        vertical-align: middle;\n",
       "    }\n",
       "\n",
       "    .dataframe tbody tr th {\n",
       "        vertical-align: top;\n",
       "    }\n",
       "\n",
       "    .dataframe thead th {\n",
       "        text-align: right;\n",
       "    }\n",
       "</style>\n",
       "<table border=\"1\" class=\"dataframe\">\n",
       "  <thead>\n",
       "    <tr style=\"text-align: right;\">\n",
       "      <th></th>\n",
       "      <th>NaN</th>\n",
       "      <th>Milk</th>\n",
       "      <th>Eggs</th>\n",
       "      <th>Bread</th>\n",
       "      <th>Diaper</th>\n",
       "      <th>Meat</th>\n",
       "      <th>Cheese</th>\n",
       "      <th>Wine</th>\n",
       "      <th>Pencil</th>\n",
       "    </tr>\n",
       "  </thead>\n",
       "  <tbody>\n",
       "    <tr>\n",
       "      <th>0</th>\n",
       "      <td>0</td>\n",
       "      <td>0</td>\n",
       "      <td>1</td>\n",
       "      <td>1</td>\n",
       "      <td>1</td>\n",
       "      <td>1</td>\n",
       "      <td>1</td>\n",
       "      <td>1</td>\n",
       "      <td>1</td>\n",
       "    </tr>\n",
       "    <tr>\n",
       "      <th>1</th>\n",
       "      <td>0</td>\n",
       "      <td>1</td>\n",
       "      <td>0</td>\n",
       "      <td>1</td>\n",
       "      <td>1</td>\n",
       "      <td>1</td>\n",
       "      <td>1</td>\n",
       "      <td>1</td>\n",
       "      <td>1</td>\n",
       "    </tr>\n",
       "    <tr>\n",
       "      <th>2</th>\n",
       "      <td>1</td>\n",
       "      <td>1</td>\n",
       "      <td>1</td>\n",
       "      <td>0</td>\n",
       "      <td>0</td>\n",
       "      <td>1</td>\n",
       "      <td>1</td>\n",
       "      <td>1</td>\n",
       "      <td>0</td>\n",
       "    </tr>\n",
       "    <tr>\n",
       "      <th>3</th>\n",
       "      <td>1</td>\n",
       "      <td>1</td>\n",
       "      <td>1</td>\n",
       "      <td>0</td>\n",
       "      <td>0</td>\n",
       "      <td>1</td>\n",
       "      <td>1</td>\n",
       "      <td>1</td>\n",
       "      <td>0</td>\n",
       "    </tr>\n",
       "    <tr>\n",
       "      <th>4</th>\n",
       "      <td>1</td>\n",
       "      <td>0</td>\n",
       "      <td>0</td>\n",
       "      <td>0</td>\n",
       "      <td>0</td>\n",
       "      <td>1</td>\n",
       "      <td>0</td>\n",
       "      <td>1</td>\n",
       "      <td>1</td>\n",
       "    </tr>\n",
       "  </tbody>\n",
       "</table>\n",
       "</div>"
      ],
      "text/plain": [
       "   NaN  Milk  Eggs  Bread  Diaper  Meat  Cheese  Wine  Pencil\n",
       "0    0     0     1      1       1     1       1     1       1\n",
       "1    0     1     0      1       1     1       1     1       1\n",
       "2    1     1     1      0       0     1       1     1       0\n",
       "3    1     1     1      0       0     1       1     1       0\n",
       "4    1     0     0      0       0     1       0     1       1"
      ]
     },
     "execution_count": 9,
     "metadata": {},
     "output_type": "execute_result"
    }
   ],
   "source": [
    "# Since, the encoded dataframe consist of the empty column. We will drop the NaN column or u can use the index.\n",
    "newdf = newdf.drop(newdf.columns[1], axis=1)\n",
    "newdf.head()"
   ]
  },
  {
   "cell_type": "markdown",
   "metadata": {
    "id": "lBJmzWAAS4Mw"
   },
   "source": [
    "Since, the encoded dataframe consist of the empty column. We will drop the NaN column or select all columns other than the first column."
   ]
  },
  {
   "cell_type": "markdown",
   "metadata": {
    "id": "_UXDzSNPP35P"
   },
   "source": [
    "## Apriori Algorithm"
   ]
  },
  {
   "cell_type": "markdown",
   "metadata": {
    "id": "K-jD3ea4TYMV"
   },
   "source": [
    "We will use appriori algorithm to determine the frequently purchased products.\n",
    "For this case study, we will min_support=0.2"
   ]
  },
  {
   "cell_type": "code",
   "execution_count": 12,
   "metadata": {
    "colab": {
     "base_uri": "https://localhost:8080/",
     "height": 1000
    },
    "executionInfo": {
     "elapsed": 9,
     "status": "ok",
     "timestamp": 1732760387889,
     "user": {
      "displayName": "Nathalia Minoque",
      "userId": "00797020017705806857"
     },
     "user_tz": -420
    },
    "id": "BLA4Jqhoyjof",
    "outputId": "1e49e7f0-1129-40ed-982f-27d0450f6bb1"
   },
   "outputs": [
    {
     "name": "stderr",
     "output_type": "stream",
     "text": [
      "/Users/mac/Library/Python/3.9/lib/python/site-packages/mlxtend/frequent_patterns/fpcommon.py:109: DeprecationWarning: DataFrames with non-bool types result in worse computationalperformance and their support might be discontinued in the future.Please use a DataFrame with bool type\n",
      "  warnings.warn(\n"
     ]
    },
    {
     "data": {
      "text/html": [
       "<div>\n",
       "<style scoped>\n",
       "    .dataframe tbody tr th:only-of-type {\n",
       "        vertical-align: middle;\n",
       "    }\n",
       "\n",
       "    .dataframe tbody tr th {\n",
       "        vertical-align: top;\n",
       "    }\n",
       "\n",
       "    .dataframe thead th {\n",
       "        text-align: right;\n",
       "    }\n",
       "</style>\n",
       "<table border=\"1\" class=\"dataframe\">\n",
       "  <thead>\n",
       "    <tr style=\"text-align: right;\">\n",
       "      <th></th>\n",
       "      <th>support</th>\n",
       "      <th>itemsets</th>\n",
       "    </tr>\n",
       "  </thead>\n",
       "  <tbody>\n",
       "    <tr>\n",
       "      <th>0</th>\n",
       "      <td>0.869841</td>\n",
       "      <td>(nan)</td>\n",
       "    </tr>\n",
       "    <tr>\n",
       "      <th>1</th>\n",
       "      <td>0.501587</td>\n",
       "      <td>(Milk)</td>\n",
       "    </tr>\n",
       "    <tr>\n",
       "      <th>2</th>\n",
       "      <td>0.438095</td>\n",
       "      <td>(Eggs)</td>\n",
       "    </tr>\n",
       "    <tr>\n",
       "      <th>3</th>\n",
       "      <td>0.504762</td>\n",
       "      <td>(Bread)</td>\n",
       "    </tr>\n",
       "    <tr>\n",
       "      <th>4</th>\n",
       "      <td>0.406349</td>\n",
       "      <td>(Diaper)</td>\n",
       "    </tr>\n",
       "  </tbody>\n",
       "</table>\n",
       "</div>"
      ],
      "text/plain": [
       "    support  itemsets\n",
       "0  0.869841     (nan)\n",
       "1  0.501587    (Milk)\n",
       "2  0.438095    (Eggs)\n",
       "3  0.504762   (Bread)\n",
       "4  0.406349  (Diaper)"
      ]
     },
     "execution_count": 12,
     "metadata": {},
     "output_type": "execute_result"
    }
   ],
   "source": [
    "#Set threshold value untuk digunakan dalam penghitungan support\n",
    "from mlxtend.frequent_patterns import apriori, association_rules\n",
    "\n",
    "freq = apriori(newdf, min_support=0.2, use_colnames=True)\n",
    "freq.head()"
   ]
  },
  {
   "cell_type": "markdown",
   "metadata": {
    "id": "uEr2YXHrVOIA"
   },
   "source": [
    "The we will generate association rule of the frequent itemset based on confidence level with the threshold=0.6"
   ]
  },
  {
   "cell_type": "code",
   "execution_count": 13,
   "metadata": {},
   "outputs": [
    {
     "data": {
      "text/html": [
       "<div>\n",
       "<style scoped>\n",
       "    .dataframe tbody tr th:only-of-type {\n",
       "        vertical-align: middle;\n",
       "    }\n",
       "\n",
       "    .dataframe tbody tr th {\n",
       "        vertical-align: top;\n",
       "    }\n",
       "\n",
       "    .dataframe thead th {\n",
       "        text-align: right;\n",
       "    }\n",
       "</style>\n",
       "<table border=\"1\" class=\"dataframe\">\n",
       "  <thead>\n",
       "    <tr style=\"text-align: right;\">\n",
       "      <th></th>\n",
       "      <th>antecedents</th>\n",
       "      <th>consequents</th>\n",
       "      <th>antecedent support</th>\n",
       "      <th>consequent support</th>\n",
       "      <th>support</th>\n",
       "      <th>confidence</th>\n",
       "      <th>lift</th>\n",
       "      <th>leverage</th>\n",
       "      <th>conviction</th>\n",
       "      <th>zhangs_metric</th>\n",
       "    </tr>\n",
       "  </thead>\n",
       "  <tbody>\n",
       "    <tr>\n",
       "      <th>0</th>\n",
       "      <td>(Milk)</td>\n",
       "      <td>(nan)</td>\n",
       "      <td>0.501587</td>\n",
       "      <td>0.869841</td>\n",
       "      <td>0.409524</td>\n",
       "      <td>0.816456</td>\n",
       "      <td>0.938626</td>\n",
       "      <td>-0.026778</td>\n",
       "      <td>0.709141</td>\n",
       "      <td>-0.115976</td>\n",
       "    </tr>\n",
       "    <tr>\n",
       "      <th>1</th>\n",
       "      <td>(Eggs)</td>\n",
       "      <td>(nan)</td>\n",
       "      <td>0.438095</td>\n",
       "      <td>0.869841</td>\n",
       "      <td>0.336508</td>\n",
       "      <td>0.768116</td>\n",
       "      <td>0.883053</td>\n",
       "      <td>-0.044565</td>\n",
       "      <td>0.561310</td>\n",
       "      <td>-0.190735</td>\n",
       "    </tr>\n",
       "    <tr>\n",
       "      <th>2</th>\n",
       "      <td>(Bread)</td>\n",
       "      <td>(nan)</td>\n",
       "      <td>0.504762</td>\n",
       "      <td>0.869841</td>\n",
       "      <td>0.396825</td>\n",
       "      <td>0.786164</td>\n",
       "      <td>0.903801</td>\n",
       "      <td>-0.042237</td>\n",
       "      <td>0.608683</td>\n",
       "      <td>-0.176903</td>\n",
       "    </tr>\n",
       "    <tr>\n",
       "      <th>3</th>\n",
       "      <td>(Diaper)</td>\n",
       "      <td>(nan)</td>\n",
       "      <td>0.406349</td>\n",
       "      <td>0.869841</td>\n",
       "      <td>0.317460</td>\n",
       "      <td>0.781250</td>\n",
       "      <td>0.898152</td>\n",
       "      <td>-0.035999</td>\n",
       "      <td>0.595011</td>\n",
       "      <td>-0.160381</td>\n",
       "    </tr>\n",
       "    <tr>\n",
       "      <th>4</th>\n",
       "      <td>(Meat)</td>\n",
       "      <td>(nan)</td>\n",
       "      <td>0.476190</td>\n",
       "      <td>0.869841</td>\n",
       "      <td>0.368254</td>\n",
       "      <td>0.773333</td>\n",
       "      <td>0.889051</td>\n",
       "      <td>-0.045956</td>\n",
       "      <td>0.574230</td>\n",
       "      <td>-0.192405</td>\n",
       "    </tr>\n",
       "  </tbody>\n",
       "</table>\n",
       "</div>"
      ],
      "text/plain": [
       "  antecedents consequents  antecedent support  consequent support   support  \\\n",
       "0      (Milk)       (nan)            0.501587            0.869841  0.409524   \n",
       "1      (Eggs)       (nan)            0.438095            0.869841  0.336508   \n",
       "2     (Bread)       (nan)            0.504762            0.869841  0.396825   \n",
       "3    (Diaper)       (nan)            0.406349            0.869841  0.317460   \n",
       "4      (Meat)       (nan)            0.476190            0.869841  0.368254   \n",
       "\n",
       "   confidence      lift  leverage  conviction  zhangs_metric  \n",
       "0    0.816456  0.938626 -0.026778    0.709141      -0.115976  \n",
       "1    0.768116  0.883053 -0.044565    0.561310      -0.190735  \n",
       "2    0.786164  0.903801 -0.042237    0.608683      -0.176903  \n",
       "3    0.781250  0.898152 -0.035999    0.595011      -0.160381  \n",
       "4    0.773333  0.889051 -0.045956    0.574230      -0.192405  "
      ]
     },
     "execution_count": 13,
     "metadata": {},
     "output_type": "execute_result"
    }
   ],
   "source": [
    "associationrule = association_rules(freq, metric=\"confidence\", min_threshold=0.6)\n",
    "associationrule.head()"
   ]
  },
  {
   "cell_type": "markdown",
   "metadata": {
    "id": "CZx_BU8MjgRg"
   },
   "source": [
    "Provide explanation about __antecedent support__, __consequent support__, __support__, __confidence__, __lift__, __leverage__, __conviction__, __conviction__ and the interpretation from the case above (please use text section)"
   ]
  },
  {
   "cell_type": "markdown",
   "metadata": {},
   "source": [
    "-Antecedent Support: Frequency of the \"if\" part of the rule appearing in transactions. Higher values indicate common items.\n",
    "\n",
    "-Consequent Support: Frequency of the \"then\" part of the rule appearing in transactions. Higher values indicate common items.\n",
    "\n",
    "-Support: Proportion of transactions containing both antecedent and consequent. Higher support indicates stronger associations.\n",
    "\n",
    "-Confidence: Probability of the consequent given the antecedent. Higher confidence means the rule is more reliable.\n",
    "\n",
    "-Lift: Measures how much more likely the consequent is given the antecedent compared to random occurrence. A lift > 1 indicates a positive association.\n",
    "\n",
    "-Leverage: Difference between observed and expected frequency of the antecedent and consequent together. Positive values indicate a stronger association.\n",
    "\n",
    "-Conviction: Measures how much the consequent depends on the antecedent. Higher values indicate a strong dependency."
   ]
  }
 ],
 "metadata": {
  "colab": {
   "provenance": []
  },
  "kernelspec": {
   "display_name": "Python 3",
   "language": "python",
   "name": "python3"
  },
  "language_info": {
   "codemirror_mode": {
    "name": "ipython",
    "version": 3
   },
   "file_extension": ".py",
   "mimetype": "text/x-python",
   "name": "python",
   "nbconvert_exporter": "python",
   "pygments_lexer": "ipython3",
   "version": "3.9.6"
  }
 },
 "nbformat": 4,
 "nbformat_minor": 0
}
