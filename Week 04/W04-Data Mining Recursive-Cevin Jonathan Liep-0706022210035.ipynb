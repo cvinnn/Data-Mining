{
 "cells": [
  {
   "cell_type": "code",
   "execution_count": 10,
   "metadata": {},
   "outputs": [],
   "source": [
    "import numpy as np"
   ]
  },
  {
   "cell_type": "code",
   "execution_count": 11,
   "metadata": {},
   "outputs": [],
   "source": [
    "# 1. Fibonacci Sequence: Print the Fibonacci sequence up to the nth term\n",
    "def fibonacci_recursive(n, a=0, b=1):\n",
    "    if n == 0:\n",
    "        return\n",
    "    print(a, end=\" \")\n",
    "    fibonacci_recursive(n-1, b, a+b)\n"
   ]
  },
  {
   "cell_type": "code",
   "execution_count": 12,
   "metadata": {},
   "outputs": [],
   "source": [
    "\n",
    "# 2. Factorial: Compute and print the factorial of a number\n",
    "def factorial_recursive(n):\n",
    "    if n == 0:\n",
    "        return 1\n",
    "    else:\n",
    "        result = n * factorial_recursive(n-1)\n",
    "        return result\n"
   ]
  },
  {
   "cell_type": "code",
   "execution_count": 13,
   "metadata": {},
   "outputs": [],
   "source": [
    "\n",
    "# 3. Sum of Natural Numbers: Compute and print the sum of the first n natural numbers\n",
    "def sum_natural_recursive(n):\n",
    "    if n == 0:\n",
    "        return 0\n",
    "    else:\n",
    "        return n + sum_natural_recursive(n-1)\n"
   ]
  },
  {
   "cell_type": "code",
   "execution_count": 14,
   "metadata": {},
   "outputs": [],
   "source": [
    "\n",
    "# 4. Tower of Hanoi: Solve and print the steps for Tower of Hanoi problem\n",
    "def tower_of_hanoi_recursive(n, source, destination, auxiliary):\n",
    "    if n == 1:\n",
    "        print(f\"Move disk 1 from {source} to {destination}\")\n",
    "        return\n",
    "    tower_of_hanoi_recursive(n-1, source, auxiliary, destination)\n",
    "    print(f\"Move disk {n} from {source} to {destination}\")\n",
    "    tower_of_hanoi_recursive(n-1, auxiliary, destination, source)\n"
   ]
  },
  {
   "cell_type": "code",
   "execution_count": 15,
   "metadata": {},
   "outputs": [],
   "source": [
    "\n",
    "# 5. Binary Search: Perform a binary search on a sorted array and print result\n",
    "def binary_search_recursive(arr, low, high, x):\n",
    "    if high >= low:\n",
    "        mid = (high + low) // 2\n",
    "        if arr[mid] == x:\n",
    "            return mid\n",
    "        elif arr[mid] > x:\n",
    "            return binary_search_recursive(arr, low, mid-1, x)\n",
    "        else:\n",
    "            return binary_search_recursive(arr, mid+1, high, x)\n",
    "    else:\n",
    "        return -1\n"
   ]
  },
  {
   "cell_type": "code",
   "execution_count": 16,
   "metadata": {},
   "outputs": [],
   "source": [
    "# 6. Entropy\n",
    "def entropy(labels):\n",
    "    if len(labels) == 0:  # base case, no labels\n",
    "        return 0\n",
    "    label_counts = np.bincount(labels)\n",
    "    probabilities = label_counts / len(labels)\n",
    "    \n",
    "    # Recursive case for entropy calculation\n",
    "    return -sum(p * np.log2(p) for p in probabilities if p > 0)"
   ]
  },
  {
   "cell_type": "code",
   "execution_count": 17,
   "metadata": {},
   "outputs": [],
   "source": [
    "# 7. Gini\n",
    "def gini(labels):\n",
    "    if len(labels) == 0:  # base case, no labels\n",
    "        return 0\n",
    "    label_counts = np.bincount(labels)\n",
    "    probabilities = label_counts / len(labels)\n",
    "    \n",
    "    # Recursive case for Gini index calculation\n",
    "    return 1 - sum(p**2 for p in probabilities)"
   ]
  },
  {
   "cell_type": "code",
   "execution_count": 18,
   "metadata": {},
   "outputs": [],
   "source": [
    "# 8. Classification Error\n",
    "def classification_error(labels):\n",
    "    if len(labels) == 0:  # base case, no labels\n",
    "        return 0\n",
    "    label_counts = np.bincount(labels)\n",
    "    probabilities = label_counts / len(labels)\n",
    "    \n",
    "    # Recursive case for classification error\n",
    "    return 1 - np.max(probabilities)"
   ]
  },
  {
   "cell_type": "code",
   "execution_count": 19,
   "metadata": {},
   "outputs": [
    {
     "name": "stdout",
     "output_type": "stream",
     "text": [
      "1. Fibonacci Sequence:\n",
      "0 1 1 2 3 5 8 13 \n",
      "---------------------------------------------------\n",
      "\n",
      "2. Factorial of 5:\n",
      "120\n",
      "\n",
      "---------------------------------------------------\n",
      "\n",
      "3. Sum of first 10 natural numbers:\n",
      "55\n",
      "\n",
      "---------------------------------------------------\n",
      "\n",
      "4. Tower of Hanoi with 4 disks:\n",
      "Move disk 1 from A to B\n",
      "Move disk 2 from A to C\n",
      "Move disk 1 from B to C\n",
      "Move disk 3 from A to B\n",
      "Move disk 1 from C to A\n",
      "Move disk 2 from C to B\n",
      "Move disk 1 from A to B\n",
      "Move disk 4 from A to C\n",
      "Move disk 1 from B to C\n",
      "Move disk 2 from B to A\n",
      "Move disk 1 from C to A\n",
      "Move disk 3 from B to C\n",
      "Move disk 1 from A to B\n",
      "Move disk 2 from A to C\n",
      "Move disk 1 from B to C\n",
      "\n",
      "---------------------------------------------------\n",
      "\n",
      "5. Binary Search:\n",
      "Element 7 found at index 3\n",
      "\n",
      "---------------------------------------------------\n",
      "\n",
      "Entropy: 1.0000\n",
      "Gini Index: 0.5000\n",
      "Classification Error: 0.5000\n"
     ]
    }
   ],
   "source": [
    "# Fibonacci sequence\n",
    "# Fibonacci Sequence: Prints the Fibonacci sequence up to the 8th term.\n",
    "print(\"1. Fibonacci Sequence:\")\n",
    "fibonacci_recursive(8)\n",
    "print(\"\\n---------------------------------------------------\\n\")\n",
    "\n",
    "# Factorial\n",
    "# Factorial: Computes and prints the factorial of the number 5.\n",
    "n = 5\n",
    "print(f\"2. Factorial of {n}:\")\n",
    "print(factorial_recursive(n))\n",
    "print(\"\\n---------------------------------------------------\\n\")\n",
    "\n",
    "# Sum of first natural numbers\n",
    "# Sum of Natural Numbers: Computes and prints the sum of the first 10 natural numbers.\n",
    "n = 10\n",
    "print(f\"3. Sum of first {n} natural numbers:\")\n",
    "print(sum_natural_recursive(n))\n",
    "print(\"\\n---------------------------------------------------\\n\")\n",
    "\n",
    "# Tower of Hanoi\n",
    "# Tower of Hanoi: Prints the steps to solve the Tower of Hanoi puzzle with 3 disks.\n",
    "n = 4\n",
    "print(f\"4. Tower of Hanoi with {n} disks:\")\n",
    "tower_of_hanoi_recursive(n, 'A', 'C', 'B')\n",
    "print(\"\\n---------------------------------------------------\\n\")\n",
    "\n",
    "# Binary Search\n",
    "# Binary Search: Searches for the element 7 in a sorted array and prints the result.\n",
    "arr = [1, 3, 5, 7, 9, 11]\n",
    "x = 7\n",
    "result = binary_search_recursive(arr, 0, len(arr)-1, x)\n",
    "print(\"5. Binary Search:\")\n",
    "if result != -1:\n",
    "    print(f\"Element {x} found at index {result}\")\n",
    "else:\n",
    "    print(f\"Element {x} not found\")\n",
    "\n",
    "print(\"\\n---------------------------------------------------\\n\")\n",
    "\n",
    "labels = np.array([0, 0, 1, 1, 0, 1, 1, 0, 0, 1])\n",
    "\n",
    "print(f\"Entropy: {entropy(labels):.4f}\")\n",
    "print(f\"Gini Index: {gini(labels):.4f}\")\n",
    "print(f\"Classification Error: {classification_error(labels):.4f}\")"
   ]
  }
 ],
 "metadata": {
  "kernelspec": {
   "display_name": "Python 3",
   "language": "python",
   "name": "python3"
  },
  "language_info": {
   "codemirror_mode": {
    "name": "ipython",
    "version": 3
   },
   "file_extension": ".py",
   "mimetype": "text/x-python",
   "name": "python",
   "nbconvert_exporter": "python",
   "pygments_lexer": "ipython3",
   "version": "3.12.0"
  }
 },
 "nbformat": 4,
 "nbformat_minor": 2
}
